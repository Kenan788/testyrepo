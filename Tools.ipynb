{
 "cells": [
  {
   "cell_type": "markdown",
   "id": "c9730b02-e624-48fd-9ea0-b1f1ab187b80",
   "metadata": {},
   "source": [
    "##Data Science Tools and Ecosystem"
   ]
  },
  {
   "cell_type": "markdown",
   "id": "51b66933-de71-4736-af82-d0918e22fe24",
   "metadata": {},
   "source": [
    "###In this notebook, Data Science Tools and Ecosystem are summarized."
   ]
  },
  {
   "cell_type": "markdown",
   "id": "12a7b16e-0487-42d1-87b3-c0c26ba06c51",
   "metadata": {},
   "source": [
    "###Some of the popular languages that Data Scientists use are:\n",
    "* Python\n",
    "* R\n",
    "* PHP"
   ]
  },
  {
   "cell_type": "markdown",
   "id": "b45f2aed-f405-4a98-95d5-4c8605fc8f4c",
   "metadata": {},
   "source": [
    "#Some of the commonly used libraries used by Data Scientists include:\n",
    "* ggplot\n",
    "* Plotly\n",
    "* pandas\n",
    "* numpy"
   ]
  },
  {
   "cell_type": "markdown",
   "id": "077d7613-978e-47d4-9ceb-1b4b42adf361",
   "metadata": {},
   "source": [
    "|Data Science Tools|\n",
    "|--------|\n",
    "|RStudio|\n",
    "|Jupyter Notebook|\n",
    "|VS Code|"
   ]
  },
  {
   "cell_type": "markdown",
   "id": "ca800dd2-91af-4816-8bf1-098b7b679485",
   "metadata": {},
   "source": [
    "###Below are a few examples of evaluating arithmetic expressions in Python"
   ]
  },
  {
   "cell_type": "markdown",
   "id": "4249be83-fb1c-45dd-b7fd-d03de5f1c2a5",
   "metadata": {},
   "source": [
    "#This a simple arithmetic expression to mutiply then add integers"
   ]
  },
  {
   "cell_type": "code",
   "execution_count": 44,
   "id": "d7e56669-61e4-4bf4-9eb7-a5b57fb9b3b4",
   "metadata": {},
   "outputs": [
    {
     "name": "stdout",
     "output_type": "stream",
     "text": [
      "17\n"
     ]
    }
   ],
   "source": [
    "result=(3*4)+5\n",
    "print(result)"
   ]
  },
  {
   "cell_type": "markdown",
   "id": "420daaf0-52cc-406e-9e91-1156ae5775a0",
   "metadata": {},
   "source": [
    "#This will convert 200 minutes to hours by diving by 60"
   ]
  },
  {
   "cell_type": "code",
   "execution_count": 63,
   "id": "890cf4ab-03b5-4e68-af7f-9e61a0f4a92e",
   "metadata": {},
   "outputs": [
    {
     "name": "stdout",
     "output_type": "stream",
     "text": [
      "3.0\n"
     ]
    }
   ],
   "source": [
    "m = 200\n",
    "hm = float( m//60)\n",
    "\n",
    "print(hm)"
   ]
  },
  {
   "cell_type": "markdown",
   "id": "75486ff4-b932-4584-9a82-a05daff6376c",
   "metadata": {},
   "source": [
    "Objectives:"
   ]
  },
  {
   "cell_type": "markdown",
   "id": "b6c93e33-5621-44b2-b907-bc7e48cce735",
   "metadata": {},
   "source": [
    "List popular languages for Data Science:\n",
    "* R\n",
    "* Python\n",
    "* PHP"
   ]
  },
  {
   "cell_type": "markdown",
   "id": "0c06b8c7-0e67-47f9-bf3d-a3d1ade9914c",
   "metadata": {},
   "source": [
    "##Author\n",
    "Kenan Aalabdallah"
   ]
  },
  {
   "cell_type": "code",
   "execution_count": null,
   "id": "ed063dbb-af09-4e53-94fe-f9b353927dff",
   "metadata": {},
   "outputs": [],
   "source": []
  }
 ],
 "metadata": {
  "kernelspec": {
   "display_name": "Python [conda env:base] *",
   "language": "python",
   "name": "conda-base-py"
  },
  "language_info": {
   "codemirror_mode": {
    "name": "ipython",
    "version": 3
   },
   "file_extension": ".py",
   "mimetype": "text/x-python",
   "name": "python",
   "nbconvert_exporter": "python",
   "pygments_lexer": "ipython3",
   "version": "3.12.7"
  }
 },
 "nbformat": 4,
 "nbformat_minor": 5
}
